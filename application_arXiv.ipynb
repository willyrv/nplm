{
 "cells": [
  {
   "cell_type": "code",
   "execution_count": 1,
   "metadata": {},
   "outputs": [],
   "source": [
    "import numpy as np\n",
    "from nplm.data_manipulation import create_training_dataset_arXiv\n",
    "import nplm.neurnetmodel as Neur\n",
    "from nplm.data_manipulation import one_hot_encode_matrix\n",
    "from nplm.minimizers import train_model"
   ]
  },
  {
   "cell_type": "code",
   "execution_count": 2,
   "metadata": {},
   "outputs": [],
   "source": [
    "PATH2FILE = \"./arxiv_articles_sample.csv\"\n",
    "CONTEXT_SIZE = 4\n",
    "DICT_SIZE = 1000"
   ]
  },
  {
   "cell_type": "code",
   "execution_count": 3,
   "metadata": {},
   "outputs": [],
   "source": [
    "# This takes a while, depending the size of the dataset and the size of the dictionary\n",
    "dataset, dictionary = create_training_dataset_arXiv(PATH2FILE, CONTEXT_SIZE, DICT_SIZE)"
   ]
  },
  {
   "cell_type": "code",
   "execution_count": 4,
   "metadata": {},
   "outputs": [
    {
     "data": {
      "text/plain": [
       "[(790, 757, 14, 3),\n",
       " (757, 14, 3, 347),\n",
       " (1, 0, 196, 19),\n",
       " (790, 9, 7, 757),\n",
       " (9, 7, 757, 14),\n",
       " (7, 757, 14, 16),\n",
       " (41, 883, 292, 0),\n",
       " (883, 292, 0, 702),\n",
       " (292, 0, 702, 939),\n",
       " (4, 145, 4, 0)]"
      ]
     },
     "execution_count": 4,
     "metadata": {},
     "output_type": "execute_result"
    }
   ],
   "source": [
    "dataset[:10]"
   ]
  },
  {
   "cell_type": "markdown",
   "metadata": {},
   "source": [
    "## The Neural Network model"
   ]
  },
  {
   "cell_type": "code",
   "execution_count": 5,
   "metadata": {},
   "outputs": [],
   "source": [
    "np.random.seed(42)\n",
    "NB_FEATURES = 200\n",
    "H = 100 # The number of hidden units\n",
    "BATCH_SIZE = 100\n",
    "N = Neur.Network([Neur.ProjectVectors(DICT_SIZE, NB_FEATURES),\n",
    "                  Neur.ConcatProjections(), \n",
    "                  Neur.Dense(NB_FEATURES * (CONTEXT_SIZE-1), H), \n",
    "                  Neur.Tanh(), Neur.Dense(H, DICT_SIZE)])\n",
    "#N_a=Neur.Network([N,Neur.Ilogit_and_KL(y)])"
   ]
  },
  {
   "cell_type": "code",
   "execution_count": 6,
   "metadata": {},
   "outputs": [
    {
     "name": "stdout",
     "output_type": "stream",
     "text": [
      "361100\n"
     ]
    }
   ],
   "source": [
    "N.get_params()\n",
    "print(len(N.get_params()))"
   ]
  },
  {
   "cell_type": "code",
   "execution_count": 7,
   "metadata": {},
   "outputs": [],
   "source": [
    "D = np.array(dataset)\n",
    "X = D[:5000, :3]\n",
    "Y = D[:5000, -1:]"
   ]
  },
  {
   "cell_type": "code",
   "execution_count": 8,
   "metadata": {},
   "outputs": [
    {
     "name": "stdout",
     "output_type": "stream",
     "text": [
      "Epoch 0 completed. Cost function = 154902.59317606725\n",
      "Epoch 1 completed. Cost function = 137557.11178860517\n",
      "Epoch 2 completed. Cost function = 126427.37265589312\n",
      "Epoch 3 completed. Cost function = 118345.34505901579\n",
      "Epoch 4 completed. Cost function = 112071.32430031362\n",
      "Epoch 5 completed. Cost function = 106863.03131045282\n",
      "Epoch 6 completed. Cost function = 102647.71398602768\n",
      "Epoch 7 completed. Cost function = 98977.73528909426\n",
      "Epoch 8 completed. Cost function = 95699.85605577378\n",
      "Epoch 9 completed. Cost function = 92960.91706971741\n",
      "Epoch 10 completed. Cost function = 90398.6215337231\n",
      "Epoch 11 completed. Cost function = 88047.50160744504\n",
      "Epoch 12 completed. Cost function = 85833.78256970418\n",
      "Epoch 13 completed. Cost function = 83789.68463981508\n",
      "Epoch 14 completed. Cost function = 81860.40785016875\n",
      "Epoch 15 completed. Cost function = 80117.23636271946\n",
      "Epoch 16 completed. Cost function = 78476.87428738092\n",
      "Epoch 17 completed. Cost function = 76907.00661424258\n",
      "Epoch 18 completed. Cost function = 75434.319414976\n",
      "Epoch 19 completed. Cost function = 74022.48027107095\n",
      "Epoch 20 completed. Cost function = 72674.2751357106\n",
      "Epoch 21 completed. Cost function = 71365.40170272307\n",
      "Epoch 22 completed. Cost function = 70105.63614278479\n",
      "Epoch 23 completed. Cost function = 68890.4621232783\n",
      "Epoch 24 completed. Cost function = 67718.14789557972\n",
      "Epoch 25 completed. Cost function = 66576.14150489376\n",
      "Epoch 26 completed. Cost function = 65497.837810689714\n",
      "Epoch 27 completed. Cost function = 64437.748828458534\n",
      "Epoch 28 completed. Cost function = 63449.039083661024\n",
      "Epoch 29 completed. Cost function = 62423.00075382177\n",
      "Epoch 30 completed. Cost function = 61427.137508541025\n",
      "Epoch 31 completed. Cost function = 60466.72807573887\n",
      "Epoch 32 completed. Cost function = 59572.74257710053\n",
      "Epoch 33 completed. Cost function = 58673.94783761989\n",
      "Epoch 34 completed. Cost function = 57843.89399351025\n",
      "Epoch 35 completed. Cost function = 56983.99995013907\n",
      "Epoch 36 completed. Cost function = 56150.80516966771\n",
      "Epoch 37 completed. Cost function = 55352.21086946724\n",
      "Epoch 38 completed. Cost function = 54582.04967663062\n",
      "Epoch 39 completed. Cost function = 53810.21298664639\n",
      "Epoch 40 completed. Cost function = 53060.05487118349\n",
      "Epoch 41 completed. Cost function = 52308.69842299608\n",
      "Epoch 42 completed. Cost function = 51606.08690407075\n",
      "Epoch 43 completed. Cost function = 50909.31357543137\n",
      "Epoch 44 completed. Cost function = 50209.34140069892\n",
      "Epoch 45 completed. Cost function = 49517.790215472676\n",
      "Epoch 46 completed. Cost function = 48827.95204351767\n",
      "Epoch 47 completed. Cost function = 48159.85841918727\n",
      "Epoch 48 completed. Cost function = 47536.23633891985\n",
      "Epoch 49 completed. Cost function = 46925.76198237951\n",
      "Epoch 50 completed. Cost function = 46307.183988301185\n",
      "Epoch 51 completed. Cost function = 45710.77394022206\n",
      "Epoch 52 completed. Cost function = 45142.57211209364\n",
      "Epoch 53 completed. Cost function = 44555.73667486408\n",
      "Epoch 54 completed. Cost function = 43997.24597302302\n",
      "Epoch 55 completed. Cost function = 43405.480292354514\n",
      "Epoch 56 completed. Cost function = 42863.204005387\n",
      "Epoch 57 completed. Cost function = 42334.16008606967\n",
      "Epoch 58 completed. Cost function = 41816.723875376854\n",
      "Epoch 59 completed. Cost function = 41307.52889636052\n",
      "Epoch 60 completed. Cost function = 40807.49258071437\n",
      "Epoch 61 completed. Cost function = 40324.29204439277\n",
      "Epoch 62 completed. Cost function = 39840.000655884935\n",
      "Epoch 63 completed. Cost function = 39379.39369077081\n",
      "Epoch 64 completed. Cost function = 38915.00266990775\n",
      "Epoch 65 completed. Cost function = 38455.19704599045\n",
      "Epoch 66 completed. Cost function = 38039.611300627694\n",
      "Epoch 67 completed. Cost function = 37582.52937612386\n",
      "Epoch 68 completed. Cost function = 37139.62386139235\n",
      "Epoch 69 completed. Cost function = 36703.67208995084\n",
      "Epoch 70 completed. Cost function = 36302.67989447354\n",
      "Epoch 71 completed. Cost function = 35891.58627295107\n",
      "Epoch 72 completed. Cost function = 35490.66230614724\n",
      "Epoch 73 completed. Cost function = 35100.63731850011\n",
      "Epoch 74 completed. Cost function = 34696.84814698237\n",
      "Epoch 75 completed. Cost function = 34308.91348425638\n",
      "Epoch 76 completed. Cost function = 33930.79914033103\n",
      "Epoch 77 completed. Cost function = 33564.745440545244\n",
      "Epoch 78 completed. Cost function = 33203.888913353854\n",
      "Epoch 79 completed. Cost function = 32837.333599696125\n",
      "Epoch 80 completed. Cost function = 32472.48385838763\n",
      "Epoch 81 completed. Cost function = 32141.259316297113\n",
      "Epoch 82 completed. Cost function = 31784.580047956573\n",
      "Epoch 83 completed. Cost function = 31445.792854140334\n",
      "Epoch 84 completed. Cost function = 31095.75946753762\n",
      "Epoch 85 completed. Cost function = 30761.71568137397\n",
      "Epoch 86 completed. Cost function = 30432.086706529484\n",
      "Epoch 87 completed. Cost function = 30090.260804037316\n",
      "Epoch 88 completed. Cost function = 29785.878737958876\n",
      "Epoch 89 completed. Cost function = 29463.222751546233\n",
      "Epoch 90 completed. Cost function = 29134.46004442496\n",
      "Epoch 91 completed. Cost function = 28821.877501733492\n",
      "Epoch 92 completed. Cost function = 28505.37580388709\n",
      "Epoch 93 completed. Cost function = 28197.818553626224\n",
      "Epoch 94 completed. Cost function = 27912.056559445256\n",
      "Epoch 95 completed. Cost function = 27613.97261672828\n",
      "Epoch 96 completed. Cost function = 27330.80629659633\n",
      "Epoch 97 completed. Cost function = 27038.913390380072\n",
      "Epoch 98 completed. Cost function = 26757.785663307957\n",
      "Epoch 99 completed. Cost function = 26490.631941577365\n"
     ]
    }
   ],
   "source": [
    "costs = train_model(N, X, Y, DICT_SIZE, batch_size=300, nb_epochs=100, alpha=1e-3)"
   ]
  },
  {
   "cell_type": "code",
   "execution_count": 9,
   "metadata": {},
   "outputs": [],
   "source": [
    "import matplotlib.pyplot as plt"
   ]
  },
  {
   "cell_type": "code",
   "execution_count": 10,
   "metadata": {},
   "outputs": [
    {
     "data": {
      "text/plain": [
       "[<matplotlib.lines.Line2D at 0x7fe32b17fc90>]"
      ]
     },
     "execution_count": 10,
     "metadata": {},
     "output_type": "execute_result"
    },
    {
     "data": {
      "image/png": "[encoded data removed]",
      "text/plain": [
       "<Figure size 432x288 with 1 Axes>"
      ]
     },
     "metadata": {
      "needs_background": "light"
     },
     "output_type": "display_data"
    }
   ],
   "source": [
    "plt.plot(costs)"
   ]
  },
  {
   "cell_type": "code",
   "execution_count": 12,
   "metadata": {},
   "outputs": [],
   "source": [
    "# Save the trained network (this can be improved)\n",
    "import pickle"
   ]
  },
  {
   "cell_type": "code",
   "execution_count": 13,
   "metadata": {},
   "outputs": [],
   "source": [
    "with open(\"./trained_nplm.pickle\", 'wb') as f:\n",
    "    pickle.dump(N, f)"
   ]
  },
  {
   "cell_type": "code",
   "execution_count": null,
   "metadata": {},
   "outputs": [],
   "source": []
  }
 ],
 "metadata": {
  "kernelspec": {
   "display_name": "Python 3",
   "language": "python",
   "name": "python3"
  },
  "language_info": {
   "codemirror_mode": {
    "name": "ipython",
    "version": 3
   },
   "file_extension": ".py",
   "mimetype": "text/x-python",
   "name": "python",
   "nbconvert_exporter": "python",
   "pygments_lexer": "ipython3",
   "version": "3.7.6"
  }
 },
 "nbformat": 4,
 "nbformat_minor": 4
}
